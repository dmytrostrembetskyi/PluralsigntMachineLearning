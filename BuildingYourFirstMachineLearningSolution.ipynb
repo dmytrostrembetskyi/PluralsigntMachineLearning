{
  "nbformat": 4,
  "nbformat_minor": 0,
  "metadata": {
    "colab": {
      "name": "BuildingYourFirstMachineLearningSolution.ipynb",
      "provenance": [],
      "authorship_tag": "ABX9TyOGmb23C3qZeVcXATTFGZAY"
    },
    "kernelspec": {
      "name": "python3",
      "display_name": "Python 3"
    },
    "language_info": {
      "name": "python"
    }
  },
  "cells": [
    {
      "cell_type": "markdown",
      "metadata": {
        "id": "u7Fp8tgzlre-"
      },
      "source": [
        "# Module 3"
      ]
    },
    {
      "cell_type": "code",
      "metadata": {
        "id": "BVqJNozFlWKI"
      },
      "source": [
        ""
      ],
      "execution_count": null,
      "outputs": []
    }
  ]
}