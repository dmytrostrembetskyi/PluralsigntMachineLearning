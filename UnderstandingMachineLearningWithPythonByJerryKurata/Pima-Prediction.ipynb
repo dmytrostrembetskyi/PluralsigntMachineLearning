{
  "nbformat": 4,
  "nbformat_minor": 5,
  "metadata": {
    "interpreter": {
      "hash": "ff64070a43451e28c38cb73675b9d37eb5459734fb0954d893eaf8f2f420f6fa"
    },
    "kernelspec": {
      "display_name": "Python 3.8.8 64-bit ('base': conda)",
      "name": "python3"
    },
    "language_info": {
      "codemirror_mode": {
        "name": "ipython",
        "version": 3
      },
      "file_extension": ".py",
      "mimetype": "text/x-python",
      "name": "python",
      "nbconvert_exporter": "python",
      "pygments_lexer": "ipython3",
      "version": "3.8.8"
    },
    "colab": {
      "name": "Pima-Prediction.ipynb",
      "provenance": [],
      "toc_visible": true,
      "include_colab_link": true
    }
  },
  "cells": [
    {
      "cell_type": "markdown",
      "metadata": {
        "id": "view-in-github",
        "colab_type": "text"
      },
      "source": [
        "<a href=\"https://colab.research.google.com/github/dmytrostrembetskyi/PluralsigntMachineLearning/blob/master/UnderstandingMachineLearningWithPythonByJerryKurata/Pima-Prediction.ipynb\" target=\"_parent\"><img src=\"https://colab.research.google.com/assets/colab-badge.svg\" alt=\"Open In Colab\"/></a>"
      ]
    },
    {
      "cell_type": "markdown",
      "metadata": {
        "id": "b2e52cf1"
      },
      "source": [
        "# Prediction\n",
        "\n",
        "Test"
      ],
      "id": "b2e52cf1"
    },
    {
      "cell_type": "markdown",
      "metadata": {
        "id": "75d6ec4e"
      },
      "source": [
        "## Import"
      ],
      "id": "75d6ec4e"
    },
    {
      "cell_type": "code",
      "metadata": {
        "id": "0494e1b4"
      },
      "source": [
        "import pandas as pd\n",
        "import matplotlib.pyplot as plt\n",
        "import numpy as np\n",
        "\n",
        "%matplotlib inline"
      ],
      "id": "0494e1b4",
      "execution_count": 1,
      "outputs": []
    },
    {
      "cell_type": "markdown",
      "metadata": {
        "id": "7e35202a"
      },
      "source": [
        "## Load and review data"
      ],
      "id": "7e35202a"
    },
    {
      "cell_type": "code",
      "metadata": {
        "id": "73e4e3e2"
      },
      "source": [
        "df = pd.read_csv(\"./data/pima-data.csv\")"
      ],
      "id": "73e4e3e2",
      "execution_count": null,
      "outputs": []
    },
    {
      "cell_type": "code",
      "metadata": {
        "id": "b5345c98",
        "outputId": "7e97552d-d7ef-4b31-fca3-96a5788bfa53"
      },
      "source": [
        "df.shape"
      ],
      "id": "b5345c98",
      "execution_count": null,
      "outputs": [
        {
          "data": {
            "text/plain": [
              "(768, 10)"
            ]
          },
          "execution_count": 3,
          "metadata": {},
          "output_type": "execute_result"
        }
      ]
    },
    {
      "cell_type": "code",
      "metadata": {
        "id": "970994d4",
        "outputId": "3eecb6ba-ffb8-4d14-a801-962e729e70dd"
      },
      "source": [
        "df.head(5)"
      ],
      "id": "970994d4",
      "execution_count": null,
      "outputs": [
        {
          "data": {
            "text/html": [
              "<div>\n",
              "<style scoped>\n",
              "    .dataframe tbody tr th:only-of-type {\n",
              "        vertical-align: middle;\n",
              "    }\n",
              "\n",
              "    .dataframe tbody tr th {\n",
              "        vertical-align: top;\n",
              "    }\n",
              "\n",
              "    .dataframe thead th {\n",
              "        text-align: right;\n",
              "    }\n",
              "</style>\n",
              "<table border=\"1\" class=\"dataframe\">\n",
              "  <thead>\n",
              "    <tr style=\"text-align: right;\">\n",
              "      <th></th>\n",
              "      <th>num_preg</th>\n",
              "      <th>glucose_conc</th>\n",
              "      <th>diastolic_bp</th>\n",
              "      <th>thickness</th>\n",
              "      <th>insulin</th>\n",
              "      <th>bmi</th>\n",
              "      <th>diab_pred</th>\n",
              "      <th>age</th>\n",
              "      <th>skin</th>\n",
              "      <th>diabetes</th>\n",
              "    </tr>\n",
              "  </thead>\n",
              "  <tbody>\n",
              "    <tr>\n",
              "      <th>0</th>\n",
              "      <td>6</td>\n",
              "      <td>148</td>\n",
              "      <td>72</td>\n",
              "      <td>35</td>\n",
              "      <td>0</td>\n",
              "      <td>33.6</td>\n",
              "      <td>0.627</td>\n",
              "      <td>50</td>\n",
              "      <td>1.3790</td>\n",
              "      <td>True</td>\n",
              "    </tr>\n",
              "    <tr>\n",
              "      <th>1</th>\n",
              "      <td>1</td>\n",
              "      <td>85</td>\n",
              "      <td>66</td>\n",
              "      <td>29</td>\n",
              "      <td>0</td>\n",
              "      <td>26.6</td>\n",
              "      <td>0.351</td>\n",
              "      <td>31</td>\n",
              "      <td>1.1426</td>\n",
              "      <td>False</td>\n",
              "    </tr>\n",
              "    <tr>\n",
              "      <th>2</th>\n",
              "      <td>8</td>\n",
              "      <td>183</td>\n",
              "      <td>64</td>\n",
              "      <td>0</td>\n",
              "      <td>0</td>\n",
              "      <td>23.3</td>\n",
              "      <td>0.672</td>\n",
              "      <td>32</td>\n",
              "      <td>0.0000</td>\n",
              "      <td>True</td>\n",
              "    </tr>\n",
              "    <tr>\n",
              "      <th>3</th>\n",
              "      <td>1</td>\n",
              "      <td>89</td>\n",
              "      <td>66</td>\n",
              "      <td>23</td>\n",
              "      <td>94</td>\n",
              "      <td>28.1</td>\n",
              "      <td>0.167</td>\n",
              "      <td>21</td>\n",
              "      <td>0.9062</td>\n",
              "      <td>False</td>\n",
              "    </tr>\n",
              "    <tr>\n",
              "      <th>4</th>\n",
              "      <td>0</td>\n",
              "      <td>137</td>\n",
              "      <td>40</td>\n",
              "      <td>35</td>\n",
              "      <td>168</td>\n",
              "      <td>43.1</td>\n",
              "      <td>2.288</td>\n",
              "      <td>33</td>\n",
              "      <td>1.3790</td>\n",
              "      <td>True</td>\n",
              "    </tr>\n",
              "  </tbody>\n",
              "</table>\n",
              "</div>"
            ],
            "text/plain": [
              "   num_preg  glucose_conc  diastolic_bp  thickness  insulin   bmi  diab_pred  \\\n",
              "0         6           148            72         35        0  33.6      0.627   \n",
              "1         1            85            66         29        0  26.6      0.351   \n",
              "2         8           183            64          0        0  23.3      0.672   \n",
              "3         1            89            66         23       94  28.1      0.167   \n",
              "4         0           137            40         35      168  43.1      2.288   \n",
              "\n",
              "   age    skin  diabetes  \n",
              "0   50  1.3790      True  \n",
              "1   31  1.1426     False  \n",
              "2   32  0.0000      True  \n",
              "3   21  0.9062     False  \n",
              "4   33  1.3790      True  "
            ]
          },
          "execution_count": 4,
          "metadata": {},
          "output_type": "execute_result"
        }
      ]
    },
    {
      "cell_type": "code",
      "metadata": {
        "id": "d0645563",
        "outputId": "a16c99d1-84c7-4ebb-8f2f-99b9ede6d504"
      },
      "source": [
        "df.isnull().values.any()"
      ],
      "id": "d0645563",
      "execution_count": null,
      "outputs": [
        {
          "data": {
            "text/plain": [
              "False"
            ]
          },
          "execution_count": 5,
          "metadata": {},
          "output_type": "execute_result"
        }
      ]
    },
    {
      "cell_type": "code",
      "metadata": {
        "id": "f144396c"
      },
      "source": [
        "def plot_corr(df, size=11):\n",
        "    corr = df.corr()\n",
        "    fig, ax = plt.subplots(figsize=(size,size))\n",
        "    ax.matshow(corr)\n",
        "    plt.xticks(range(len(corr.columns)), corr.columns)\n",
        "    plt.yticks(range(len(corr.columns)), corr.columns)"
      ],
      "id": "f144396c",
      "execution_count": null,
      "outputs": []
    },
    {
      "cell_type": "code",
      "metadata": {
        "id": "1183a5a7",
        "outputId": "09d96ce9-3bad-4c14-a286-97abdc45dd7a"
      },
      "source": [
        "plot_corr(df)"
      ],
      "id": "1183a5a7",
      "execution_count": null,
      "outputs": [
        {
          "data": {
            "image/png": "[encoded data removed]",
            "text/plain": [
              "<Figure size 792x792 with 1 Axes>"
            ]
          },
          "metadata": {
            "needs_background": "light"
          },
          "output_type": "display_data"
        }
      ]
    },
    {
      "cell_type": "code",
      "metadata": {
        "id": "1b7c9f2b",
        "outputId": "1f42a3d1-7fd2-4834-a694-ec19480b87cf"
      },
      "source": [
        "df.corr()"
      ],
      "id": "1b7c9f2b",
      "execution_count": null,
      "outputs": [
        {
          "data": {
            "text/html": [
              "<div>\n",
              "<style scoped>\n",
              "    .dataframe tbody tr th:only-of-type {\n",
              "        vertical-align: middle;\n",
              "    }\n",
              "\n",
              "    .dataframe tbody tr th {\n",
              "        vertical-align: top;\n",
              "    }\n",
              "\n",
              "    .dataframe thead th {\n",
              "        text-align: right;\n",
              "    }\n",
              "</style>\n",
              "<table border=\"1\" class=\"dataframe\">\n",
              "  <thead>\n",
              "    <tr style=\"text-align: right;\">\n",
              "      <th></th>\n",
              "      <th>num_preg</th>\n",
              "      <th>glucose_conc</th>\n",
              "      <th>diastolic_bp</th>\n",
              "      <th>thickness</th>\n",
              "      <th>insulin</th>\n",
              "      <th>bmi</th>\n",
              "      <th>diab_pred</th>\n",
              "      <th>age</th>\n",
              "      <th>skin</th>\n",
              "      <th>diabetes</th>\n",
              "    </tr>\n",
              "  </thead>\n",
              "  <tbody>\n",
              "    <tr>\n",
              "      <th>num_preg</th>\n",
              "      <td>1.000000</td>\n",
              "      <td>0.129459</td>\n",
              "      <td>0.141282</td>\n",
              "      <td>-0.081672</td>\n",
              "      <td>-0.073535</td>\n",
              "      <td>0.017683</td>\n",
              "      <td>-0.033523</td>\n",
              "      <td>0.544341</td>\n",
              "      <td>-0.081672</td>\n",
              "      <td>0.221898</td>\n",
              "    </tr>\n",
              "    <tr>\n",
              "      <th>glucose_conc</th>\n",
              "      <td>0.129459</td>\n",
              "      <td>1.000000</td>\n",
              "      <td>0.152590</td>\n",
              "      <td>0.057328</td>\n",
              "      <td>0.331357</td>\n",
              "      <td>0.221071</td>\n",
              "      <td>0.137337</td>\n",
              "      <td>0.263514</td>\n",
              "      <td>0.057328</td>\n",
              "      <td>0.466581</td>\n",
              "    </tr>\n",
              "    <tr>\n",
              "      <th>diastolic_bp</th>\n",
              "      <td>0.141282</td>\n",
              "      <td>0.152590</td>\n",
              "      <td>1.000000</td>\n",
              "      <td>0.207371</td>\n",
              "      <td>0.088933</td>\n",
              "      <td>0.281805</td>\n",
              "      <td>0.041265</td>\n",
              "      <td>0.239528</td>\n",
              "      <td>0.207371</td>\n",
              "      <td>0.065068</td>\n",
              "    </tr>\n",
              "    <tr>\n",
              "      <th>thickness</th>\n",
              "      <td>-0.081672</td>\n",
              "      <td>0.057328</td>\n",
              "      <td>0.207371</td>\n",
              "      <td>1.000000</td>\n",
              "      <td>0.436783</td>\n",
              "      <td>0.392573</td>\n",
              "      <td>0.183928</td>\n",
              "      <td>-0.113970</td>\n",
              "      <td>1.000000</td>\n",
              "      <td>0.074752</td>\n",
              "    </tr>\n",
              "    <tr>\n",
              "      <th>insulin</th>\n",
              "      <td>-0.073535</td>\n",
              "      <td>0.331357</td>\n",
              "      <td>0.088933</td>\n",
              "      <td>0.436783</td>\n",
              "      <td>1.000000</td>\n",
              "      <td>0.197859</td>\n",
              "      <td>0.185071</td>\n",
              "      <td>-0.042163</td>\n",
              "      <td>0.436783</td>\n",
              "      <td>0.130548</td>\n",
              "    </tr>\n",
              "    <tr>\n",
              "      <th>bmi</th>\n",
              "      <td>0.017683</td>\n",
              "      <td>0.221071</td>\n",
              "      <td>0.281805</td>\n",
              "      <td>0.392573</td>\n",
              "      <td>0.197859</td>\n",
              "      <td>1.000000</td>\n",
              "      <td>0.140647</td>\n",
              "      <td>0.036242</td>\n",
              "      <td>0.392573</td>\n",
              "      <td>0.292695</td>\n",
              "    </tr>\n",
              "    <tr>\n",
              "      <th>diab_pred</th>\n",
              "      <td>-0.033523</td>\n",
              "      <td>0.137337</td>\n",
              "      <td>0.041265</td>\n",
              "      <td>0.183928</td>\n",
              "      <td>0.185071</td>\n",
              "      <td>0.140647</td>\n",
              "      <td>1.000000</td>\n",
              "      <td>0.033561</td>\n",
              "      <td>0.183928</td>\n",
              "      <td>0.173844</td>\n",
              "    </tr>\n",
              "    <tr>\n",
              "      <th>age</th>\n",
              "      <td>0.544341</td>\n",
              "      <td>0.263514</td>\n",
              "      <td>0.239528</td>\n",
              "      <td>-0.113970</td>\n",
              "      <td>-0.042163</td>\n",
              "      <td>0.036242</td>\n",
              "      <td>0.033561</td>\n",
              "      <td>1.000000</td>\n",
              "      <td>-0.113970</td>\n",
              "      <td>0.238356</td>\n",
              "    </tr>\n",
              "    <tr>\n",
              "      <th>skin</th>\n",
              "      <td>-0.081672</td>\n",
              "      <td>0.057328</td>\n",
              "      <td>0.207371</td>\n",
              "      <td>1.000000</td>\n",
              "      <td>0.436783</td>\n",
              "      <td>0.392573</td>\n",
              "      <td>0.183928</td>\n",
              "      <td>-0.113970</td>\n",
              "      <td>1.000000</td>\n",
              "      <td>0.074752</td>\n",
              "    </tr>\n",
              "    <tr>\n",
              "      <th>diabetes</th>\n",
              "      <td>0.221898</td>\n",
              "      <td>0.466581</td>\n",
              "      <td>0.065068</td>\n",
              "      <td>0.074752</td>\n",
              "      <td>0.130548</td>\n",
              "      <td>0.292695</td>\n",
              "      <td>0.173844</td>\n",
              "      <td>0.238356</td>\n",
              "      <td>0.074752</td>\n",
              "      <td>1.000000</td>\n",
              "    </tr>\n",
              "  </tbody>\n",
              "</table>\n",
              "</div>"
            ],
            "text/plain": [
              "              num_preg  glucose_conc  diastolic_bp  thickness   insulin  \\\n",
              "num_preg      1.000000      0.129459      0.141282  -0.081672 -0.073535   \n",
              "glucose_conc  0.129459      1.000000      0.152590   0.057328  0.331357   \n",
              "diastolic_bp  0.141282      0.152590      1.000000   0.207371  0.088933   \n",
              "thickness    -0.081672      0.057328      0.207371   1.000000  0.436783   \n",
              "insulin      -0.073535      0.331357      0.088933   0.436783  1.000000   \n",
              "bmi           0.017683      0.221071      0.281805   0.392573  0.197859   \n",
              "diab_pred    -0.033523      0.137337      0.041265   0.183928  0.185071   \n",
              "age           0.544341      0.263514      0.239528  -0.113970 -0.042163   \n",
              "skin         -0.081672      0.057328      0.207371   1.000000  0.436783   \n",
              "diabetes      0.221898      0.466581      0.065068   0.074752  0.130548   \n",
              "\n",
              "                   bmi  diab_pred       age      skin  diabetes  \n",
              "num_preg      0.017683  -0.033523  0.544341 -0.081672  0.221898  \n",
              "glucose_conc  0.221071   0.137337  0.263514  0.057328  0.466581  \n",
              "diastolic_bp  0.281805   0.041265  0.239528  0.207371  0.065068  \n",
              "thickness     0.392573   0.183928 -0.113970  1.000000  0.074752  \n",
              "insulin       0.197859   0.185071 -0.042163  0.436783  0.130548  \n",
              "bmi           1.000000   0.140647  0.036242  0.392573  0.292695  \n",
              "diab_pred     0.140647   1.000000  0.033561  0.183928  0.173844  \n",
              "age           0.036242   0.033561  1.000000 -0.113970  0.238356  \n",
              "skin          0.392573   0.183928 -0.113970  1.000000  0.074752  \n",
              "diabetes      0.292695   0.173844  0.238356  0.074752  1.000000  "
            ]
          },
          "execution_count": 8,
          "metadata": {},
          "output_type": "execute_result"
        }
      ]
    },
    {
      "cell_type": "code",
      "metadata": {
        "id": "874634e7",
        "outputId": "a2c4a6a4-ec6d-44e8-c18d-8ba2a6698ebd"
      },
      "source": [
        "df.head()"
      ],
      "id": "874634e7",
      "execution_count": null,
      "outputs": [
        {
          "data": {
            "text/html": [
              "<div>\n",
              "<style scoped>\n",
              "    .dataframe tbody tr th:only-of-type {\n",
              "        vertical-align: middle;\n",
              "    }\n",
              "\n",
              "    .dataframe tbody tr th {\n",
              "        vertical-align: top;\n",
              "    }\n",
              "\n",
              "    .dataframe thead th {\n",
              "        text-align: right;\n",
              "    }\n",
              "</style>\n",
              "<table border=\"1\" class=\"dataframe\">\n",
              "  <thead>\n",
              "    <tr style=\"text-align: right;\">\n",
              "      <th></th>\n",
              "      <th>num_preg</th>\n",
              "      <th>glucose_conc</th>\n",
              "      <th>diastolic_bp</th>\n",
              "      <th>thickness</th>\n",
              "      <th>insulin</th>\n",
              "      <th>bmi</th>\n",
              "      <th>diab_pred</th>\n",
              "      <th>age</th>\n",
              "      <th>skin</th>\n",
              "      <th>diabetes</th>\n",
              "    </tr>\n",
              "  </thead>\n",
              "  <tbody>\n",
              "    <tr>\n",
              "      <th>0</th>\n",
              "      <td>6</td>\n",
              "      <td>148</td>\n",
              "      <td>72</td>\n",
              "      <td>35</td>\n",
              "      <td>0</td>\n",
              "      <td>33.6</td>\n",
              "      <td>0.627</td>\n",
              "      <td>50</td>\n",
              "      <td>1.3790</td>\n",
              "      <td>True</td>\n",
              "    </tr>\n",
              "    <tr>\n",
              "      <th>1</th>\n",
              "      <td>1</td>\n",
              "      <td>85</td>\n",
              "      <td>66</td>\n",
              "      <td>29</td>\n",
              "      <td>0</td>\n",
              "      <td>26.6</td>\n",
              "      <td>0.351</td>\n",
              "      <td>31</td>\n",
              "      <td>1.1426</td>\n",
              "      <td>False</td>\n",
              "    </tr>\n",
              "    <tr>\n",
              "      <th>2</th>\n",
              "      <td>8</td>\n",
              "      <td>183</td>\n",
              "      <td>64</td>\n",
              "      <td>0</td>\n",
              "      <td>0</td>\n",
              "      <td>23.3</td>\n",
              "      <td>0.672</td>\n",
              "      <td>32</td>\n",
              "      <td>0.0000</td>\n",
              "      <td>True</td>\n",
              "    </tr>\n",
              "    <tr>\n",
              "      <th>3</th>\n",
              "      <td>1</td>\n",
              "      <td>89</td>\n",
              "      <td>66</td>\n",
              "      <td>23</td>\n",
              "      <td>94</td>\n",
              "      <td>28.1</td>\n",
              "      <td>0.167</td>\n",
              "      <td>21</td>\n",
              "      <td>0.9062</td>\n",
              "      <td>False</td>\n",
              "    </tr>\n",
              "    <tr>\n",
              "      <th>4</th>\n",
              "      <td>0</td>\n",
              "      <td>137</td>\n",
              "      <td>40</td>\n",
              "      <td>35</td>\n",
              "      <td>168</td>\n",
              "      <td>43.1</td>\n",
              "      <td>2.288</td>\n",
              "      <td>33</td>\n",
              "      <td>1.3790</td>\n",
              "      <td>True</td>\n",
              "    </tr>\n",
              "  </tbody>\n",
              "</table>\n",
              "</div>"
            ],
            "text/plain": [
              "   num_preg  glucose_conc  diastolic_bp  thickness  insulin   bmi  diab_pred  \\\n",
              "0         6           148            72         35        0  33.6      0.627   \n",
              "1         1            85            66         29        0  26.6      0.351   \n",
              "2         8           183            64          0        0  23.3      0.672   \n",
              "3         1            89            66         23       94  28.1      0.167   \n",
              "4         0           137            40         35      168  43.1      2.288   \n",
              "\n",
              "   age    skin  diabetes  \n",
              "0   50  1.3790      True  \n",
              "1   31  1.1426     False  \n",
              "2   32  0.0000      True  \n",
              "3   21  0.9062     False  \n",
              "4   33  1.3790      True  "
            ]
          },
          "execution_count": 9,
          "metadata": {},
          "output_type": "execute_result"
        }
      ]
    },
    {
      "cell_type": "code",
      "metadata": {
        "id": "45aad10d"
      },
      "source": [
        "df = df.drop(\"skin\", axis=1)\n",
        "\n",
        "#del df('skin')"
      ],
      "id": "45aad10d",
      "execution_count": null,
      "outputs": []
    },
    {
      "cell_type": "code",
      "metadata": {
        "id": "f13ca9b8",
        "outputId": "9b882dfc-0099-4c98-97bf-d080d85bda23"
      },
      "source": [
        "plot_corr(df)"
      ],
      "id": "f13ca9b8",
      "execution_count": null,
      "outputs": [
        {
          "data": {
            "image/png": "[encoded data removed]",
            "text/plain": [
              "<Figure size 792x792 with 1 Axes>"
            ]
          },
          "metadata": {
            "needs_background": "light"
          },
          "output_type": "display_data"
        }
      ]
    },
    {
      "cell_type": "markdown",
      "metadata": {
        "id": "82f48901"
      },
      "source": [
        "## Check data types"
      ],
      "id": "82f48901"
    },
    {
      "cell_type": "code",
      "metadata": {
        "id": "f30c877d",
        "outputId": "0a08d016-7c7c-491c-8bbb-126f0a7f5f9c"
      },
      "source": [
        "df.head()"
      ],
      "id": "f30c877d",
      "execution_count": null,
      "outputs": [
        {
          "data": {
            "text/html": [
              "<div>\n",
              "<style scoped>\n",
              "    .dataframe tbody tr th:only-of-type {\n",
              "        vertical-align: middle;\n",
              "    }\n",
              "\n",
              "    .dataframe tbody tr th {\n",
              "        vertical-align: top;\n",
              "    }\n",
              "\n",
              "    .dataframe thead th {\n",
              "        text-align: right;\n",
              "    }\n",
              "</style>\n",
              "<table border=\"1\" class=\"dataframe\">\n",
              "  <thead>\n",
              "    <tr style=\"text-align: right;\">\n",
              "      <th></th>\n",
              "      <th>num_preg</th>\n",
              "      <th>glucose_conc</th>\n",
              "      <th>diastolic_bp</th>\n",
              "      <th>thickness</th>\n",
              "      <th>insulin</th>\n",
              "      <th>bmi</th>\n",
              "      <th>diab_pred</th>\n",
              "      <th>age</th>\n",
              "      <th>diabetes</th>\n",
              "    </tr>\n",
              "  </thead>\n",
              "  <tbody>\n",
              "    <tr>\n",
              "      <th>0</th>\n",
              "      <td>6</td>\n",
              "      <td>148</td>\n",
              "      <td>72</td>\n",
              "      <td>35</td>\n",
              "      <td>0</td>\n",
              "      <td>33.6</td>\n",
              "      <td>0.627</td>\n",
              "      <td>50</td>\n",
              "      <td>True</td>\n",
              "    </tr>\n",
              "    <tr>\n",
              "      <th>1</th>\n",
              "      <td>1</td>\n",
              "      <td>85</td>\n",
              "      <td>66</td>\n",
              "      <td>29</td>\n",
              "      <td>0</td>\n",
              "      <td>26.6</td>\n",
              "      <td>0.351</td>\n",
              "      <td>31</td>\n",
              "      <td>False</td>\n",
              "    </tr>\n",
              "    <tr>\n",
              "      <th>2</th>\n",
              "      <td>8</td>\n",
              "      <td>183</td>\n",
              "      <td>64</td>\n",
              "      <td>0</td>\n",
              "      <td>0</td>\n",
              "      <td>23.3</td>\n",
              "      <td>0.672</td>\n",
              "      <td>32</td>\n",
              "      <td>True</td>\n",
              "    </tr>\n",
              "    <tr>\n",
              "      <th>3</th>\n",
              "      <td>1</td>\n",
              "      <td>89</td>\n",
              "      <td>66</td>\n",
              "      <td>23</td>\n",
              "      <td>94</td>\n",
              "      <td>28.1</td>\n",
              "      <td>0.167</td>\n",
              "      <td>21</td>\n",
              "      <td>False</td>\n",
              "    </tr>\n",
              "    <tr>\n",
              "      <th>4</th>\n",
              "      <td>0</td>\n",
              "      <td>137</td>\n",
              "      <td>40</td>\n",
              "      <td>35</td>\n",
              "      <td>168</td>\n",
              "      <td>43.1</td>\n",
              "      <td>2.288</td>\n",
              "      <td>33</td>\n",
              "      <td>True</td>\n",
              "    </tr>\n",
              "  </tbody>\n",
              "</table>\n",
              "</div>"
            ],
            "text/plain": [
              "   num_preg  glucose_conc  diastolic_bp  thickness  insulin   bmi  diab_pred  \\\n",
              "0         6           148            72         35        0  33.6      0.627   \n",
              "1         1            85            66         29        0  26.6      0.351   \n",
              "2         8           183            64          0        0  23.3      0.672   \n",
              "3         1            89            66         23       94  28.1      0.167   \n",
              "4         0           137            40         35      168  43.1      2.288   \n",
              "\n",
              "   age  diabetes  \n",
              "0   50      True  \n",
              "1   31     False  \n",
              "2   32      True  \n",
              "3   21     False  \n",
              "4   33      True  "
            ]
          },
          "execution_count": 12,
          "metadata": {},
          "output_type": "execute_result"
        }
      ]
    },
    {
      "cell_type": "code",
      "metadata": {
        "id": "e66e6416"
      },
      "source": [
        "map = {True: 1, False : 0}"
      ],
      "id": "e66e6416",
      "execution_count": null,
      "outputs": []
    },
    {
      "cell_type": "code",
      "metadata": {
        "id": "a4653d2a"
      },
      "source": [
        "df['diabetes'] = df['diabetes'].map(map)"
      ],
      "id": "a4653d2a",
      "execution_count": null,
      "outputs": []
    },
    {
      "cell_type": "code",
      "metadata": {
        "id": "24900f49",
        "outputId": "cb91f133-b986-4135-b16d-b1233b58d161"
      },
      "source": [
        "df.head()"
      ],
      "id": "24900f49",
      "execution_count": null,
      "outputs": [
        {
          "data": {
            "text/html": [
              "<div>\n",
              "<style scoped>\n",
              "    .dataframe tbody tr th:only-of-type {\n",
              "        vertical-align: middle;\n",
              "    }\n",
              "\n",
              "    .dataframe tbody tr th {\n",
              "        vertical-align: top;\n",
              "    }\n",
              "\n",
              "    .dataframe thead th {\n",
              "        text-align: right;\n",
              "    }\n",
              "</style>\n",
              "<table border=\"1\" class=\"dataframe\">\n",
              "  <thead>\n",
              "    <tr style=\"text-align: right;\">\n",
              "      <th></th>\n",
              "      <th>num_preg</th>\n",
              "      <th>glucose_conc</th>\n",
              "      <th>diastolic_bp</th>\n",
              "      <th>thickness</th>\n",
              "      <th>insulin</th>\n",
              "      <th>bmi</th>\n",
              "      <th>diab_pred</th>\n",
              "      <th>age</th>\n",
              "      <th>diabetes</th>\n",
              "    </tr>\n",
              "  </thead>\n",
              "  <tbody>\n",
              "    <tr>\n",
              "      <th>0</th>\n",
              "      <td>6</td>\n",
              "      <td>148</td>\n",
              "      <td>72</td>\n",
              "      <td>35</td>\n",
              "      <td>0</td>\n",
              "      <td>33.6</td>\n",
              "      <td>0.627</td>\n",
              "      <td>50</td>\n",
              "      <td>1</td>\n",
              "    </tr>\n",
              "    <tr>\n",
              "      <th>1</th>\n",
              "      <td>1</td>\n",
              "      <td>85</td>\n",
              "      <td>66</td>\n",
              "      <td>29</td>\n",
              "      <td>0</td>\n",
              "      <td>26.6</td>\n",
              "      <td>0.351</td>\n",
              "      <td>31</td>\n",
              "      <td>0</td>\n",
              "    </tr>\n",
              "    <tr>\n",
              "      <th>2</th>\n",
              "      <td>8</td>\n",
              "      <td>183</td>\n",
              "      <td>64</td>\n",
              "      <td>0</td>\n",
              "      <td>0</td>\n",
              "      <td>23.3</td>\n",
              "      <td>0.672</td>\n",
              "      <td>32</td>\n",
              "      <td>1</td>\n",
              "    </tr>\n",
              "    <tr>\n",
              "      <th>3</th>\n",
              "      <td>1</td>\n",
              "      <td>89</td>\n",
              "      <td>66</td>\n",
              "      <td>23</td>\n",
              "      <td>94</td>\n",
              "      <td>28.1</td>\n",
              "      <td>0.167</td>\n",
              "      <td>21</td>\n",
              "      <td>0</td>\n",
              "    </tr>\n",
              "    <tr>\n",
              "      <th>4</th>\n",
              "      <td>0</td>\n",
              "      <td>137</td>\n",
              "      <td>40</td>\n",
              "      <td>35</td>\n",
              "      <td>168</td>\n",
              "      <td>43.1</td>\n",
              "      <td>2.288</td>\n",
              "      <td>33</td>\n",
              "      <td>1</td>\n",
              "    </tr>\n",
              "  </tbody>\n",
              "</table>\n",
              "</div>"
            ],
            "text/plain": [
              "   num_preg  glucose_conc  diastolic_bp  thickness  insulin   bmi  diab_pred  \\\n",
              "0         6           148            72         35        0  33.6      0.627   \n",
              "1         1            85            66         29        0  26.6      0.351   \n",
              "2         8           183            64          0        0  23.3      0.672   \n",
              "3         1            89            66         23       94  28.1      0.167   \n",
              "4         0           137            40         35      168  43.1      2.288   \n",
              "\n",
              "   age  diabetes  \n",
              "0   50         1  \n",
              "1   31         0  \n",
              "2   32         1  \n",
              "3   21         0  \n",
              "4   33         1  "
            ]
          },
          "execution_count": 15,
          "metadata": {},
          "output_type": "execute_result"
        }
      ]
    },
    {
      "cell_type": "code",
      "metadata": {
        "id": "b1bf6bd2",
        "outputId": "7f42b13f-c999-4cac-d46f-8c934b3dca02"
      },
      "source": [
        "num_true = len(df.loc[df['diabetes'] == True])\n",
        "num_false = len(df.loc[df['diabetes'] == False])\n",
        "\n",
        "print('Number of True cases {0} ({1:2.2f}%)'.format(num_true, (num_true/ (num_true + num_false)) * 100))\n",
        "print('Number of False cases {0} ({1:2.2f}%)'.format(num_false, (num_false/ (num_true + num_false)) * 100))"
      ],
      "id": "b1bf6bd2",
      "execution_count": null,
      "outputs": [
        {
          "name": "stdout",
          "output_type": "stream",
          "text": [
            "Number of True cases 268 (34.90%)\n",
            "Number of False cases 500 (65.10%)\n"
          ]
        }
      ]
    },
    {
      "cell_type": "markdown",
      "metadata": {
        "id": "23ac07e2"
      },
      "source": [
        "## Split data"
      ],
      "id": "23ac07e2"
    },
    {
      "cell_type": "markdown",
      "metadata": {
        "id": "1ddf19cd"
      },
      "source": [
        "70/30"
      ],
      "id": "1ddf19cd"
    },
    {
      "cell_type": "code",
      "metadata": {
        "id": "ce77d790"
      },
      "source": [
        "from sklearn.model_selection import train_test_split\n",
        "\n",
        "feature_col_names = ['num_preg', 'glucose_conc', 'diastolic_bp', 'thickness', 'insulin', 'bmi', 'diab_pred', 'age', 'diabetes']\n",
        "predicted_class_names = ['diabetes']\n",
        "\n",
        "X = df[feature_col_names].values\n",
        "y = df[predicted_class_names].values\n",
        "split_test_size = 0.30\n",
        "\n",
        "X_train, X_test, y_train, y_test = train_test_split(X, y, test_size=split_test_size, random_state=42)"
      ],
      "id": "ce77d790",
      "execution_count": null,
      "outputs": []
    },
    {
      "cell_type": "code",
      "metadata": {
        "id": "8585bef9",
        "outputId": "1db4cb69-209a-45e1-a3f2-2e7a1c2c6ea6"
      },
      "source": [
        "print(\"{0:0.2f}% in training set\".format((len(X_train)/len(df.index)) * 100))\n",
        "print(\"{0:0.2f}% in test set\".format((len(X_test)/len(df.index)) * 100))"
      ],
      "id": "8585bef9",
      "execution_count": null,
      "outputs": [
        {
          "name": "stdout",
          "output_type": "stream",
          "text": [
            "69.92% in training set\n",
            "30.08% in test set\n"
          ]
        }
      ]
    },
    {
      "cell_type": "markdown",
      "metadata": {
        "id": "ff05f5dc"
      },
      "source": [
        "## Verify split"
      ],
      "id": "ff05f5dc"
    },
    {
      "cell_type": "code",
      "metadata": {
        "id": "f6ceb7a2",
        "outputId": "753ea3db-1c57-4078-8878-749cce635866"
      },
      "source": [
        "print(\"Original True  : {0} ({1:0.2f}%)\".format(len(df.loc[df['diabetes'] == 1]), (len(df.loc[df['diabetes'] == 1])/len(df.index)) * 100.0))\n",
        "print(\"Original False : {0} ({1:0.2f}%)\".format(len(df.loc[df['diabetes'] == 0]), (len(df.loc[df['diabetes'] == 0])/len(df.index)) * 100.0))\n",
        "print(\"\")\n",
        "print(\"Training True  : {0} ({1:0.2f}%)\".format(len(y_train[y_train[:] == 1]), (len(y_train[y_train[:] == 1])/len(y_train) * 100.0)))\n",
        "print(\"Training False : {0} ({1:0.2f}%)\".format(len(y_train[y_train[:] == 0]), (len(y_train[y_train[:] == 0])/len(y_train) * 100.0)))\n",
        "print(\"\")\n",
        "print(\"Test True      : {0} ({1:0.2f}%)\".format(len(y_test[y_test[:] == 1]), (len(y_test[y_test[:] == 1])/len(y_test) * 100.0)))\n",
        "print(\"Test False     : {0} ({1:0.2f}%)\".format(len(y_test[y_test[:] == 0]), (len(y_test[y_test[:] == 0])/len(y_test) * 100.0)))"
      ],
      "id": "f6ceb7a2",
      "execution_count": null,
      "outputs": [
        {
          "name": "stdout",
          "output_type": "stream",
          "text": [
            "Original True  : 268 (34.90%)\n",
            "Original False : 500 (65.10%)\n",
            "\n",
            "Training True  : 188 (35.01%)\n",
            "Training False : 349 (64.99%)\n",
            "\n",
            "Test True      : 80 (34.63%)\n",
            "Test False     : 151 (65.37%)\n"
          ]
        }
      ]
    },
    {
      "cell_type": "code",
      "metadata": {
        "id": "755b7a2c",
        "outputId": "187a528a-5018-47d2-dad1-dbf382142b27"
      },
      "source": [
        "df.head()"
      ],
      "id": "755b7a2c",
      "execution_count": null,
      "outputs": [
        {
          "data": {
            "text/html": [
              "<div>\n",
              "<style scoped>\n",
              "    .dataframe tbody tr th:only-of-type {\n",
              "        vertical-align: middle;\n",
              "    }\n",
              "\n",
              "    .dataframe tbody tr th {\n",
              "        vertical-align: top;\n",
              "    }\n",
              "\n",
              "    .dataframe thead th {\n",
              "        text-align: right;\n",
              "    }\n",
              "</style>\n",
              "<table border=\"1\" class=\"dataframe\">\n",
              "  <thead>\n",
              "    <tr style=\"text-align: right;\">\n",
              "      <th></th>\n",
              "      <th>num_preg</th>\n",
              "      <th>glucose_conc</th>\n",
              "      <th>diastolic_bp</th>\n",
              "      <th>thickness</th>\n",
              "      <th>insulin</th>\n",
              "      <th>bmi</th>\n",
              "      <th>diab_pred</th>\n",
              "      <th>age</th>\n",
              "      <th>diabetes</th>\n",
              "    </tr>\n",
              "  </thead>\n",
              "  <tbody>\n",
              "    <tr>\n",
              "      <th>0</th>\n",
              "      <td>6</td>\n",
              "      <td>148</td>\n",
              "      <td>72</td>\n",
              "      <td>35</td>\n",
              "      <td>0</td>\n",
              "      <td>33.6</td>\n",
              "      <td>0.627</td>\n",
              "      <td>50</td>\n",
              "      <td>1</td>\n",
              "    </tr>\n",
              "    <tr>\n",
              "      <th>1</th>\n",
              "      <td>1</td>\n",
              "      <td>85</td>\n",
              "      <td>66</td>\n",
              "      <td>29</td>\n",
              "      <td>0</td>\n",
              "      <td>26.6</td>\n",
              "      <td>0.351</td>\n",
              "      <td>31</td>\n",
              "      <td>0</td>\n",
              "    </tr>\n",
              "    <tr>\n",
              "      <th>2</th>\n",
              "      <td>8</td>\n",
              "      <td>183</td>\n",
              "      <td>64</td>\n",
              "      <td>0</td>\n",
              "      <td>0</td>\n",
              "      <td>23.3</td>\n",
              "      <td>0.672</td>\n",
              "      <td>32</td>\n",
              "      <td>1</td>\n",
              "    </tr>\n",
              "    <tr>\n",
              "      <th>3</th>\n",
              "      <td>1</td>\n",
              "      <td>89</td>\n",
              "      <td>66</td>\n",
              "      <td>23</td>\n",
              "      <td>94</td>\n",
              "      <td>28.1</td>\n",
              "      <td>0.167</td>\n",
              "      <td>21</td>\n",
              "      <td>0</td>\n",
              "    </tr>\n",
              "    <tr>\n",
              "      <th>4</th>\n",
              "      <td>0</td>\n",
              "      <td>137</td>\n",
              "      <td>40</td>\n",
              "      <td>35</td>\n",
              "      <td>168</td>\n",
              "      <td>43.1</td>\n",
              "      <td>2.288</td>\n",
              "      <td>33</td>\n",
              "      <td>1</td>\n",
              "    </tr>\n",
              "  </tbody>\n",
              "</table>\n",
              "</div>"
            ],
            "text/plain": [
              "   num_preg  glucose_conc  diastolic_bp  thickness  insulin   bmi  diab_pred  \\\n",
              "0         6           148            72         35        0  33.6      0.627   \n",
              "1         1            85            66         29        0  26.6      0.351   \n",
              "2         8           183            64          0        0  23.3      0.672   \n",
              "3         1            89            66         23       94  28.1      0.167   \n",
              "4         0           137            40         35      168  43.1      2.288   \n",
              "\n",
              "   age  diabetes  \n",
              "0   50         1  \n",
              "1   31         0  \n",
              "2   32         1  \n",
              "3   21         0  \n",
              "4   33         1  "
            ]
          },
          "execution_count": 20,
          "metadata": {},
          "output_type": "execute_result"
        }
      ]
    },
    {
      "cell_type": "code",
      "metadata": {
        "id": "7268c071",
        "outputId": "5eeb3805-4312-4baa-a698-f16c189a5a9c"
      },
      "source": [
        "print(\"# rows in dataframe {0}\".format(len(df)))\n",
        "print(\"# rows missing glucose_conc: {0}\".format(len(df.loc[df['glucose_conc'] == 0])))\n",
        "print(\"# rows missing diastolic_bp: {0}\".format(len(df.loc[df['diastolic_bp'] == 0])))\n",
        "print(\"# rows missing thickness: {0}\".format(len(df.loc[df['thickness'] == 0])))\n",
        "print(\"# rows missing insulin: {0}\".format(len(df.loc[df['insulin'] == 0])))\n",
        "print(\"# rows missing bmi: {0}\".format(len(df.loc[df['bmi'] == 0])))\n",
        "print(\"# rows missing diab_pred: {0}\".format(len(df.loc[df['diab_pred'] == 0])))\n",
        "print(\"# rows missing age: {0}\".format(len(df.loc[df['age'] == 0])))"
      ],
      "id": "7268c071",
      "execution_count": null,
      "outputs": [
        {
          "name": "stdout",
          "output_type": "stream",
          "text": [
            "# rows in dataframe 768\n",
            "# rows missing glucose_conc: 5\n",
            "# rows missing diastolic_bp: 35\n",
            "# rows missing thickness: 227\n",
            "# rows missing insulin: 374\n",
            "# rows missing bmi: 11\n",
            "# rows missing diab_pred: 0\n",
            "# rows missing age: 0\n"
          ]
        }
      ]
    },
    {
      "cell_type": "markdown",
      "metadata": {
        "id": "029af191"
      },
      "source": [
        "### Impute with mean"
      ],
      "id": "029af191"
    },
    {
      "cell_type": "code",
      "metadata": {
        "id": "77460a06"
      },
      "source": [
        "from sklearn.impute import SimpleImputer\n",
        "\n",
        "fill_0 = SimpleImputer(missing_values=0)\n",
        "\n",
        "X_train = fill_0.fit_transform(X_train)\n",
        "X_test = fill_0.fit_transform(X_test)"
      ],
      "id": "77460a06",
      "execution_count": null,
      "outputs": []
    },
    {
      "cell_type": "markdown",
      "metadata": {
        "id": "945e2562"
      },
      "source": [
        "## Training Naive Bayes"
      ],
      "id": "945e2562"
    },
    {
      "cell_type": "code",
      "metadata": {
        "id": "3dbdfddc",
        "outputId": "fd0598c9-6a44-4fca-be40-04b8fb1b2d76"
      },
      "source": [
        "from sklearn.naive_bayes import GaussianNB\n",
        "\n",
        "nb_model = GaussianNB()\n",
        "nb_model.fit(X_train, y_train.ravel())"
      ],
      "id": "3dbdfddc",
      "execution_count": null,
      "outputs": [
        {
          "data": {
            "text/plain": [
              "GaussianNB()"
            ]
          },
          "execution_count": 23,
          "metadata": {},
          "output_type": "execute_result"
        }
      ]
    },
    {
      "cell_type": "markdown",
      "metadata": {
        "id": "935b5904"
      },
      "source": [
        "## Performance on Training Data"
      ],
      "id": "935b5904"
    },
    {
      "cell_type": "code",
      "metadata": {
        "id": "0f5f2a3d",
        "outputId": "22062f31-a1d6-4863-b602-9158c3c47f38"
      },
      "source": [
        "nb_predict_train = nb_model.predict(X_train)\n",
        "\n",
        "from sklearn import metrics\n",
        "\n",
        "print(\"Accuracy: {0:.4f}\".format(metrics.accuracy_score(y_train, nb_predict_train)))\n",
        "print()"
      ],
      "id": "0f5f2a3d",
      "execution_count": null,
      "outputs": [
        {
          "name": "stdout",
          "output_type": "stream",
          "text": [
            "Accuracy: 0.7542\n",
            "\n"
          ]
        }
      ]
    },
    {
      "cell_type": "markdown",
      "metadata": {
        "id": "5bdf44c1"
      },
      "source": [
        "## Performance on Test Data"
      ],
      "id": "5bdf44c1"
    },
    {
      "cell_type": "code",
      "metadata": {
        "id": "570829d5",
        "outputId": "4597b230-c0c9-4e84-fad8-289a51335963"
      },
      "source": [
        "nb_predict_train = nb_model.predict(X_test)\n",
        "\n",
        "from sklearn import metrics\n",
        "\n",
        "print(\"Accuracy: {0:.4f}\".format(metrics.accuracy_score(y_test, nb_predict_train)))\n",
        "print()"
      ],
      "id": "570829d5",
      "execution_count": null,
      "outputs": [
        {
          "name": "stdout",
          "output_type": "stream",
          "text": [
            "Accuracy: 0.7359\n",
            "\n"
          ]
        }
      ]
    },
    {
      "cell_type": "markdown",
      "metadata": {
        "id": "a054f41d"
      },
      "source": [
        "Metrics"
      ],
      "id": "a054f41d"
    },
    {
      "cell_type": "code",
      "metadata": {
        "id": "e43ef693",
        "outputId": "5f398501-f21a-4c03-f8ed-4e5d0495a9aa"
      },
      "source": [
        "print(\"Confusion Matrix\")\n",
        "print(\"{0}\".format(metrics.confusion_matrix(y_test, nb_predict_train)))\n",
        "print(\"\")\n",
        "\n",
        "print(\"Confusion Report\")\n",
        "print(metrics.classification_report(y_test, nb_predict_train))"
      ],
      "id": "e43ef693",
      "execution_count": null,
      "outputs": [
        {
          "name": "stdout",
          "output_type": "stream",
          "text": [
            "Confusion Matrix\n",
            "[[118  33]\n",
            " [ 28  52]]\n",
            "\n",
            "Confusion Report\n",
            "              precision    recall  f1-score   support\n",
            "\n",
            "           0       0.81      0.78      0.79       151\n",
            "           1       0.61      0.65      0.63        80\n",
            "\n",
            "    accuracy                           0.74       231\n",
            "   macro avg       0.71      0.72      0.71       231\n",
            "weighted avg       0.74      0.74      0.74       231\n",
            "\n"
          ]
        }
      ]
    },
    {
      "cell_type": "markdown",
      "metadata": {
        "id": "55d2b146"
      },
      "source": [
        "## Random Forest"
      ],
      "id": "55d2b146"
    },
    {
      "cell_type": "code",
      "metadata": {
        "id": "ab2956ae",
        "outputId": "6b92e390-5650-4bb7-bff8-bb34d975ee1c"
      },
      "source": [
        "from sklearn.ensemble import RandomForestClassifier\n",
        "rf_model = RandomForestClassifier(random_state=42)\n",
        "rf_model.fit(X_train, y_train.ravel())"
      ],
      "id": "ab2956ae",
      "execution_count": null,
      "outputs": [
        {
          "data": {
            "text/plain": [
              "RandomForestClassifier(random_state=42)"
            ]
          },
          "execution_count": 27,
          "metadata": {},
          "output_type": "execute_result"
        }
      ]
    },
    {
      "cell_type": "code",
      "metadata": {
        "id": "0f532b98",
        "outputId": "75b89d32-7d87-4f78-f485-89db18fac191"
      },
      "source": [
        "rf_predict_train = rf_model.predict(X_train)\n",
        "# training metrics\n",
        "print(\"Accuracy: {0:.4f}\".format(metrics.accuracy_score(y_train, rf_predict_train)))"
      ],
      "id": "0f532b98",
      "execution_count": null,
      "outputs": [
        {
          "name": "stdout",
          "output_type": "stream",
          "text": [
            "Accuracy: 1.0000\n"
          ]
        }
      ]
    },
    {
      "cell_type": "code",
      "metadata": {
        "id": "c9bf7945",
        "outputId": "32705d17-70d3-4d0c-8017-ae03d579c324"
      },
      "source": [
        "rf_predict_test = rf_model.predict(X_test)\n",
        "# training metrics\n",
        "print(\"Accuracy: {0:.4f}\".format(metrics.accuracy_score(y_test, rf_predict_test)))"
      ],
      "id": "c9bf7945",
      "execution_count": null,
      "outputs": [
        {
          "name": "stdout",
          "output_type": "stream",
          "text": [
            "Accuracy: 0.7619\n"
          ]
        }
      ]
    },
    {
      "cell_type": "code",
      "metadata": {
        "id": "ea8b844b",
        "outputId": "819bac2f-097a-4b93-c610-606bc0a12a6d"
      },
      "source": [
        "print(metrics.confusion_matrix(y_test, rf_predict_test))\n",
        "print(\"\")\n",
        "print(\"Classification Report\")\n",
        "print(metrics.classification_report(y_test, rf_predict_test))"
      ],
      "id": "ea8b844b",
      "execution_count": null,
      "outputs": [
        {
          "name": "stdout",
          "output_type": "stream",
          "text": [
            "[[122  29]\n",
            " [ 26  54]]\n",
            "\n",
            "Classification Report\n",
            "              precision    recall  f1-score   support\n",
            "\n",
            "           0       0.82      0.81      0.82       151\n",
            "           1       0.65      0.68      0.66        80\n",
            "\n",
            "    accuracy                           0.76       231\n",
            "   macro avg       0.74      0.74      0.74       231\n",
            "weighted avg       0.76      0.76      0.76       231\n",
            "\n"
          ]
        }
      ]
    },
    {
      "cell_type": "markdown",
      "metadata": {
        "id": "939e6f2b"
      },
      "source": [
        "## Logistics regression"
      ],
      "id": "939e6f2b"
    },
    {
      "cell_type": "raw",
      "metadata": {
        "id": "00fbc892"
      },
      "source": [
        ""
      ],
      "id": "00fbc892"
    },
    {
      "cell_type": "code",
      "metadata": {
        "id": "09641c3f",
        "outputId": "eddd6730-3e11-4ba5-ac8b-f85fda068abf"
      },
      "source": [
        "from sklearn.linear_model import LogisticRegression\n",
        "\n",
        "lr_model = LogisticRegression(C=0.7, random_state=42,max_iter=7600)\n",
        "lr_model.fit(X_train, y_train.ravel())\n",
        "lr_predict_test = lr_model.predict(X_test)\n",
        "\n",
        "print(\"Accuracy: {0:.4f}\".format(metrics.accuracy_score(y_test, lr_predict_test)))\n",
        "print(metrics.confusion_matrix(y_test, lr_predict_test))\n",
        "print(\"\")\n",
        "print(\"Classification Report\")\n",
        "print(metrics.classification_report(y_test, lr_predict_test))"
      ],
      "id": "09641c3f",
      "execution_count": null,
      "outputs": [
        {
          "name": "stdout",
          "output_type": "stream",
          "text": [
            "Accuracy: 0.7359\n",
            "[[123  28]\n",
            " [ 33  47]]\n",
            "\n",
            "Classification Report\n",
            "              precision    recall  f1-score   support\n",
            "\n",
            "           0       0.79      0.81      0.80       151\n",
            "           1       0.63      0.59      0.61        80\n",
            "\n",
            "    accuracy                           0.74       231\n",
            "   macro avg       0.71      0.70      0.70       231\n",
            "weighted avg       0.73      0.74      0.73       231\n",
            "\n"
          ]
        }
      ]
    },
    {
      "cell_type": "code",
      "metadata": {
        "id": "f55f3780",
        "outputId": "002c5992-6527-4f60-defb-7bd7b44002b1"
      },
      "source": [
        "C_start = 0.1\n",
        "C_end = 5\n",
        "C_inc = 0.1\n",
        "\n",
        "C_values, recall_scores = [], []\n",
        "\n",
        "C_val = C_start\n",
        "best_recall_score = 0\n",
        "\n",
        "while (C_val < C_end):\n",
        "    C_values.append(C_val)\n",
        "    lr_model_loop = LogisticRegression(C = C_val, random_state=42, max_iter = 7600, solver='liblinear')\n",
        "    lr_model_loop.fit(X_train, y_train.ravel())\n",
        "    lr_predict_loop_test = lr_model_loop.predict(X_test)\n",
        "    recall_score = metrics.recall_score(y_test, lr_predict_loop_test)\n",
        "    recall_scores.append(recall_score)\n",
        "    if (recall_score > best_recall_score):\n",
        "        best_recall_score = recall_score\n",
        "        best_lr_predict_test = lr_predict_loop_test\n",
        "    C_val = C_val + C_inc\n",
        "    \n",
        "best_score_C_val = C_values[recall_scores.index(best_recall_score)]\n",
        "print(\"1st max value of {0:.3f} occured at C = {1:.3f}\".format(best_recall_score, best_score_C_val))\n",
        "\n",
        "%matplotlib inline\n",
        "plt.plot(C_values, recall_scores, \"-\")\n",
        "plt.xlabel(\"C value\")\n",
        "plt.ylabel(\"recall score\")\n"
      ],
      "id": "f55f3780",
      "execution_count": null,
      "outputs": [
        {
          "name": "stdout",
          "output_type": "stream",
          "text": [
            "1st max value of 0.613 occured at C = 0.700\n"
          ]
        },
        {
          "data": {
            "text/plain": [
              "Text(0, 0.5, 'recall score')"
            ]
          },
          "execution_count": 32,
          "metadata": {},
          "output_type": "execute_result"
        },
        {
          "data": {
            "image/png": "[encoded data removed]",
            "text/plain": [
              "<Figure size 432x288 with 1 Axes>"
            ]
          },
          "metadata": {
            "needs_background": "light"
          },
          "output_type": "display_data"
        }
      ]
    },
    {
      "cell_type": "code",
      "metadata": {
        "id": "41b51acc",
        "outputId": "9147468b-ee36-4471-bb54-27ef02cf106e"
      },
      "source": [
        "C_start = 0.1\n",
        "C_end = 5\n",
        "C_inc = 0.1\n",
        "\n",
        "C_values, recall_scores = [], []\n",
        "\n",
        "C_val = C_start\n",
        "best_recall_score = 0\n",
        "\n",
        "while (C_val < C_end):\n",
        "    C_values.append(C_val)\n",
        "    lr_model_loop = LogisticRegression(C = C_val, random_state=42, max_iter = 7600, solver='liblinear', class_weight='balanced')\n",
        "    lr_model_loop.fit(X_train, y_train.ravel())\n",
        "    lr_predict_loop_test = lr_model_loop.predict(X_test)\n",
        "    recall_score = metrics.recall_score(y_test, lr_predict_loop_test)\n",
        "    recall_scores.append(recall_score)\n",
        "    if (recall_score > best_recall_score):\n",
        "        best_recall_score = recall_score\n",
        "        best_lr_predict_test = lr_predict_loop_test\n",
        "    C_val = C_val + C_inc\n",
        "    \n",
        "best_score_C_val = C_values[recall_scores.index(best_recall_score)]\n",
        "print(\"1st max value of {0:.3f} occured at C = {1:.3f}\".format(best_recall_score, best_score_C_val))\n",
        "\n",
        "%matplotlib inline\n",
        "plt.plot(C_values, recall_scores, \"-\")\n",
        "plt.xlabel(\"C value\")\n",
        "plt.ylabel(\"recall score\")"
      ],
      "id": "41b51acc",
      "execution_count": null,
      "outputs": [
        {
          "name": "stdout",
          "output_type": "stream",
          "text": [
            "1st max value of 0.738 occured at C = 0.200\n"
          ]
        },
        {
          "data": {
            "text/plain": [
              "Text(0, 0.5, 'recall score')"
            ]
          },
          "execution_count": 33,
          "metadata": {},
          "output_type": "execute_result"
        },
        {
          "data": {
            "image/png": "[encoded data removed]",
            "text/plain": [
              "<Figure size 432x288 with 1 Axes>"
            ]
          },
          "metadata": {
            "needs_background": "light"
          },
          "output_type": "display_data"
        }
      ]
    },
    {
      "cell_type": "code",
      "metadata": {
        "id": "17d8731f",
        "outputId": "c370b983-363e-4d65-c407-230b9e3c6d6e"
      },
      "source": [
        "from sklearn.linear_model import LogisticRegression\n",
        "lr_model = LogisticRegression(class_weight='balanced', C=best_score_C_val, random_state=42, max_iter = 7600, solver='liblinear')\n",
        "lr_model.fit(X_train, y_train.ravel())\n",
        "lr_predict_test = lr_model.predict(X_test)\n",
        "\n",
        "\n",
        "print(\"Accuracy: {0:.4f}\".format(metrics.accuracy_score(y_test, lr_predict_test)))\n",
        "print(metrics.confusion_matrix(y_test, lr_predict_test))\n",
        "print(\"\")\n",
        "print(\"Classification Report\")\n",
        "print(metrics.classification_report(y_test, lr_predict_test))\n",
        "print(metrics.recall_score(y_test, lr_predict_loop_test))"
      ],
      "id": "17d8731f",
      "execution_count": null,
      "outputs": [
        {
          "name": "stdout",
          "output_type": "stream",
          "text": [
            "Accuracy: 0.7143\n",
            "[[106  45]\n",
            " [ 21  59]]\n",
            "\n",
            "Classification Report\n",
            "              precision    recall  f1-score   support\n",
            "\n",
            "           0       0.83      0.70      0.76       151\n",
            "           1       0.57      0.74      0.64        80\n",
            "\n",
            "    accuracy                           0.71       231\n",
            "   macro avg       0.70      0.72      0.70       231\n",
            "weighted avg       0.74      0.71      0.72       231\n",
            "\n",
            "0.6625\n"
          ]
        }
      ]
    },
    {
      "cell_type": "markdown",
      "metadata": {
        "id": "4f60039a"
      },
      "source": [
        "## Cross Validation"
      ],
      "id": "4f60039a"
    },
    {
      "cell_type": "code",
      "metadata": {
        "id": "99d9687b",
        "outputId": "ec6a66fb-4800-4f50-92f7-138e1ae317f7"
      },
      "source": [
        "from sklearn.linear_model import LogisticRegressionCV\n",
        "lr_cv_model = LogisticRegressionCV(n_jobs=-1, random_state=42, Cs=3, cv=10, refit=False, class_weight='balanced')\n",
        "lr_cv_model.fit(X_train, y_train.ravel())\n"
      ],
      "id": "99d9687b",
      "execution_count": null,
      "outputs": [
        {
          "data": {
            "text/plain": [
              "LogisticRegressionCV(Cs=3, class_weight='balanced', cv=10, n_jobs=-1,\n",
              "                     random_state=42, refit=False)"
            ]
          },
          "execution_count": 45,
          "metadata": {},
          "output_type": "execute_result"
        }
      ]
    },
    {
      "cell_type": "code",
      "metadata": {
        "id": "7a542f94",
        "outputId": "a6d0c271-e542-49fc-87fa-a5d8b00d8f5d"
      },
      "source": [
        "lr_cv_predict_test = lr_cv_model.predict(X_test)\n",
        "\n",
        "print(\"Accuracy: {0:.4f}\".format(metrics.accuracy_score(y_test, lr_cv_predict_test)))\n",
        "print(metrics.confusion_matrix(y_test, lr_cv_predict_test))\n",
        "print(\"\")\n",
        "print(\"Classification Report\")\n",
        "print(metrics.classification_report(y_test, lr_cv_predict_test))\n"
      ],
      "id": "7a542f94",
      "execution_count": null,
      "outputs": [
        {
          "name": "stdout",
          "output_type": "stream",
          "text": [
            "Accuracy: 0.7100\n",
            "[[109  42]\n",
            " [ 25  55]]\n",
            "\n",
            "Classification Report\n",
            "              precision    recall  f1-score   support\n",
            "\n",
            "           0       0.81      0.72      0.76       151\n",
            "           1       0.57      0.69      0.62        80\n",
            "\n",
            "    accuracy                           0.71       231\n",
            "   macro avg       0.69      0.70      0.69       231\n",
            "weighted avg       0.73      0.71      0.72       231\n",
            "\n"
          ]
        }
      ]
    },
    {
      "cell_type": "code",
      "metadata": {
        "id": "f227984e"
      },
      "source": [
        ""
      ],
      "id": "f227984e",
      "execution_count": null,
      "outputs": []
    }
  ]
}